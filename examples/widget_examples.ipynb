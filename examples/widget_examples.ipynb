{
 "cells": [
  {
   "cell_type": "markdown",
   "metadata": {},
   "source": [
    "# Scipp widgets examples\n",
    "\n",
    "This contains some simple examples of how to use the scipp widgets module. The code below loads some fake data performs a scale operation on it and allows the results to be interactively plotted.\n",
    "\n",
    "The code use to achieve this is hidden by default, the button below toggles whether the code cells are visible or not."
   ]
  },
  {
   "cell_type": "code",
   "execution_count": null,
   "metadata": {},
   "outputs": [],
   "source": [
    "import functools\n",
    "import scipp as sc\n",
    "from scwidgets.widgets import ProcessWidget, PlotWidget, setup_code_hiding\n",
    "from scwidgets.converters import typed_scope_converter, scipp_object, string_allowed_values_converter\n",
    "from example_helpers import fake_load, fake_filepath_converter\n",
    "setup_code_hiding()"
   ]
  },
  {
   "cell_type": "markdown",
   "metadata": {},
   "source": [
    "## Load data\n",
    "For ease of demonstration this executes a fake load function which creates a simple scipp dataset."
   ]
  },
  {
   "cell_type": "code",
   "execution_count": null,
   "metadata": {},
   "outputs": [],
   "source": [
    "ProcessWidget(globals(), fake_load, 'Load', {'filepath': fake_filepath_converter})"
   ]
  },
  {
   "cell_type": "code",
   "execution_count": null,
   "metadata": {},
   "outputs": [],
   "source": [
    "x= [1,2,3,4,5]"
   ]
  },
  {
   "cell_type": "markdown",
   "metadata": {},
   "source": [
    "## Sum dimension\n",
    "This widget will sum the input data over the specified dimension. [functools.partial](https://docs.python.org/3/library/functools.html#partial) is used to create a scipp_object_converter with the correct scope."
   ]
  },
  {
   "cell_type": "code",
   "execution_count": null,
   "metadata": {},
   "outputs": [],
   "source": [
    "data_getter = functools.partial(typed_scope_converter, allowed_types=scipp_object, scope=globals())\n",
    "dimension_getter = functools.partial(string_allowed_values_converter, allowed_values=('tof', 'spectrum'))\n",
    "ProcessWidget(globals(), sc.sum, 'Sum', {'x': data_getter, 'dim': dimension_getter},descriptions={'x': 'input-data'}, options={'dim': ('tof', 'spectrum') })"
   ]
  },
  {
   "cell_type": "markdown",
   "metadata": {},
   "source": [
    "## Plotting\n",
    "The PlotWidget provides a simple wrapper around the scipp plot function. This is the equivalent of calling scipp.plot.plot(\\<user input\\>)"
   ]
  },
  {
   "cell_type": "code",
   "execution_count": null,
   "metadata": {},
   "outputs": [],
   "source": [
    "PlotWidget(globals())"
   ]
  }
 ],
 "metadata": {
  "kernelspec": {
   "display_name": "Python 3",
   "language": "python",
   "name": "python3"
  },
  "language_info": {
   "codemirror_mode": {
    "name": "ipython",
    "version": 3
   },
   "file_extension": ".py",
   "mimetype": "text/x-python",
   "name": "python",
   "nbconvert_exporter": "python",
   "pygments_lexer": "ipython3",
   "version": "3.7.8"
  }
 },
 "nbformat": 4,
 "nbformat_minor": 4
}
