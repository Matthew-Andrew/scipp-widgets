{
 "cells": [
  {
   "cell_type": "markdown",
   "metadata": {},
   "source": [
    "# Scipp widgets examples\n",
    "\n",
    "This contains some simple examples of how to use the scipp widgets module. The code below loads some fake data performs a scale operation on it and allows the results to be interactively plotted.\n",
    "\n",
    "The code use to achieve this is hidden by default, the button below toggles whether the code cells are visible or not."
   ]
  },
  {
   "cell_type": "code",
   "execution_count": null,
   "metadata": {},
   "outputs": [],
   "source": [
    "import functools\n",
    "import numpy as np\n",
    "import scipp as sc\n",
    "from scwidgets.widgets import ProcessWidget, FunctionWrapperWidget, create_hide_button, HideCodeWidget,toggle_code, toggle_code_test\n",
    "from scwidgets.inputs import Input, EvalInput\n",
    "from scwidgets.validators import scipp_object_validator\n",
    "from IPython.core.display import display, HTML, Javascript\n"
   ]
  },
  {
   "cell_type": "code",
   "execution_count": null,
   "metadata": {},
   "outputs": [],
   "source": [
    "d = sc.Dataset(\n",
    "    {\n",
    "    'alice': sc.Variable(['z', 'y', 'x'], values=np.random.rand(10, 10, 10),\n",
    "                         variances=0.1*np.random.rand(10, 10, 10)),\n",
    "    'bob': sc.Variable(['x', 'z'], values=np.arange(0.0, 10.0, 0.1).reshape(10, 10),\n",
    "                       variances=0.1*np.random.rand(10, 10))\n",
    "    },\n",
    "    coords={\n",
    "        'x': sc.Variable(['x'], values=np.arange(11.0), unit=sc.units.m),\n",
    "        'y': sc.Variable(['y'], values=np.arange(11.0), unit=sc.units.m),\n",
    "        'z': sc.Variable(['z'], values=np.arange(11.0), unit=sc.units.m)})"
   ]
  },
  {
   "cell_type": "markdown",
   "metadata": {},
   "source": [
    "## Sum dimension\n",
    "This widget will sum the input data over the specified dimension. [functools.partial](https://docs.python.org/3/library/functools.html#partial) is used to create a scipp_object_converter with the correct scope."
   ]
  },
  {
   "cell_type": "code",
   "execution_count": null,
   "metadata": {},
   "outputs": [],
   "source": [
    "data_input = EvalInput('x', validator=scipp_object_validator, tooltip='input data')\n",
    "dimension_input = Input('dim', options = ('x', 'z'))\n",
    "ProcessWidget(sc.sum, 'Sum', [data_input, dimension_input], hide_code=True)"
   ]
  },
  {
   "cell_type": "markdown",
   "metadata": {},
   "source": [
    "## Plotting\n",
    "The PlotWidget provides a simple wrapper around the scipp plot function. This is the equivalent of calling scipp.plot.plot(\\<user input\\>)"
   ]
  },
  {
   "cell_type": "code",
   "execution_count": null,
   "metadata": {},
   "outputs": [],
   "source": [
    "data_input = EvalInput('scipp_obj', validator=scipp_object_validator, tooltip='Data to plot')\n",
    "FunctionWrapperWidget(sc.plot.plot, 'Plot', [data_input], hide_code=True)"
   ]
  }
 ],
 "metadata": {
  "kernelspec": {
   "display_name": "Python 3",
   "language": "python",
   "name": "python3"
  },
  "language_info": {
   "codemirror_mode": {
    "name": "ipython",
    "version": 3
   },
   "file_extension": ".py",
   "mimetype": "text/x-python",
   "name": "python",
   "nbconvert_exporter": "python",
   "pygments_lexer": "ipython3",
   "version": "3.7.8"
  }
 },
 "nbformat": 4,
 "nbformat_minor": 4
}
