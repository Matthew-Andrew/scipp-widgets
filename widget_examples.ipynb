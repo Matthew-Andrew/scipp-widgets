{
 "cells": [
  {
   "cell_type": "code",
   "execution_count": 1,
   "metadata": {},
   "outputs": [
    {
     "data": {
      "text/html": [
       "<style>.output_wrapper .ui-dialog-titlebar {display: none;}</style>"
      ],
      "text/plain": [
       "<IPython.core.display.HTML object>"
      ]
     },
     "metadata": {},
     "output_type": "display_data"
    }
   ],
   "source": [
    "from widgets import ProcessWidget, PlotWidget, setup_code_hiding\n",
    "import scipp as sc\n",
    "import numpy as np"
   ]
  },
  {
   "cell_type": "code",
   "execution_count": 2,
   "metadata": {},
   "outputs": [
    {
     "data": {
      "text/html": [
       "<script>$(\"div.input\").hide()</script>"
      ],
      "text/plain": [
       "<IPython.core.display.HTML object>"
      ]
     },
     "metadata": {},
     "output_type": "display_data"
    },
    {
     "data": {
      "application/vnd.jupyter.widget-view+json": {
       "model_id": "b41d6ce69dc04e74bcae6251795fc44d",
       "version_major": 2,
       "version_minor": 0
      },
      "text/plain": [
       "ToggleButton(value=False, description='Show code')"
      ]
     },
     "metadata": {},
     "output_type": "display_data"
    }
   ],
   "source": [
    "setup_code_hiding()"
   ]
  },
  {
   "cell_type": "code",
   "execution_count": 3,
   "metadata": {},
   "outputs": [],
   "source": [
    "def fake_load(filepath):\n",
    "    dim = 'tof'\n",
    "    num_spectra = 10\n",
    "    return sc.Dataset(\n",
    "        {\n",
    "            'sample':\n",
    "            sc.Variable(['spectrum', dim],\n",
    "                        values=np.random.rand(num_spectra, 10),\n",
    "                        variances=0.1 * np.random.rand(num_spectra, 10)),\n",
    "            'background':\n",
    "            sc.Variable(['spectrum', dim],\n",
    "                        values=np.arange(0.0, num_spectra, 0.1).reshape(\n",
    "                            num_spectra, 10),\n",
    "                        variances=0.1 * np.random.rand(num_spectra, 10))\n",
    "        },\n",
    "        coords={\n",
    "            dim:\n",
    "            sc.Variable([dim], values=np.arange(11.0), unit=sc.units.us),\n",
    "            'spectrum':\n",
    "            sc.Variable(['spectrum'],\n",
    "                        values=np.arange(num_spectra),\n",
    "                        unit=sc.units.one),\n",
    "            'source-position':\n",
    "            sc.Variable(value=np.array([1., 1., 10.]),\n",
    "                        dtype=sc.dtype.vector_3_float64,\n",
    "                        unit=sc.units.m),\n",
    "            'sample-position':\n",
    "            sc.Variable(value=np.array([1., 1., 60.]),\n",
    "                        dtype=sc.dtype.vector_3_float64,\n",
    "                        unit=sc.units.m),\n",
    "            'position':\n",
    "            sc.Variable(['spectrum'],\n",
    "                        values=np.arange(3 * num_spectra).reshape(\n",
    "                            num_spectra, 3),\n",
    "                        unit=sc.units.m,\n",
    "                        dtype=sc.dtype.vector_3_float64)\n",
    "        })\n",
    "\n",
    "filepath_converter = lambda input: 'filepath'"
   ]
  },
  {
   "cell_type": "code",
   "execution_count": 4,
   "metadata": {},
   "outputs": [
    {
     "data": {
      "application/vnd.jupyter.widget-view+json": {
       "model_id": "b317df8cda8848ddadf2e7c1347629f8",
       "version_major": 2,
       "version_minor": 0
      },
      "text/plain": [
       "ProcessWidget(children=(HBox(children=(Combobox(value='', continuous_update=False, placeholder='run number or …"
      ]
     },
     "metadata": {},
     "output_type": "display_data"
    }
   ],
   "source": [
    "data_creation = ProcessWidget(globals(), fake_load, 'Load', {'filepath': filepath_converter}, {'filepath': 'run number or file name'})\n",
    "data_creation"
   ]
  },
  {
   "cell_type": "code",
   "execution_count": 5,
   "metadata": {},
   "outputs": [
    {
     "data": {
      "application/vnd.jupyter.widget-view+json": {
       "model_id": "b02009f10f674c07984baec838f9914e",
       "version_major": 2,
       "version_minor": 0
      },
      "text/plain": [
       "PlotWidget(children=(VBox(children=(HBox(children=(Output(), Button(description='Manual Update', style=ButtonS…"
      ]
     },
     "metadata": {},
     "output_type": "display_data"
    }
   ],
   "source": [
    "PlotWidget(globals())"
   ]
  }
 ],
 "metadata": {
  "kernelspec": {
   "display_name": "Python 3",
   "language": "python",
   "name": "python3"
  },
  "language_info": {
   "codemirror_mode": {
    "name": "ipython",
    "version": 3
   },
   "file_extension": ".py",
   "mimetype": "text/x-python",
   "name": "python",
   "nbconvert_exporter": "python",
   "pygments_lexer": "ipython3",
   "version": "3.7.8"
  }
 },
 "nbformat": 4,
 "nbformat_minor": 4
}
