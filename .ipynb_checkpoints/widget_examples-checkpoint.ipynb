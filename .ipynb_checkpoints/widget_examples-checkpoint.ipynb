{
 "cells": [
  {
   "cell_type": "markdown",
   "metadata": {},
   "source": [
    "# Scipp widgets examples\n",
    "\n",
    "This contains some simple examples of how to use the scipp widgets module. The code below loads some fake data performs a scale operation on it and allows the results to be interactively plotted.\n",
    "\n",
    "The code use to achieve this is hidden by default, the button below toggles whether the code cells are visible or not."
   ]
  },
  {
   "cell_type": "code",
   "execution_count": 1,
   "metadata": {},
   "outputs": [
    {
     "data": {
      "text/html": [
       "<style>.output_wrapper .ui-dialog-titlebar {display: none;}</style>"
      ],
      "text/plain": [
       "<IPython.core.display.HTML object>"
      ]
     },
     "metadata": {},
     "output_type": "display_data"
    },
    {
     "data": {
      "text/html": [
       "<script>$(\"div.input\").hide()</script>"
      ],
      "text/plain": [
       "<IPython.core.display.HTML object>"
      ]
     },
     "metadata": {},
     "output_type": "display_data"
    },
    {
     "data": {
      "application/vnd.jupyter.widget-view+json": {
       "model_id": "bfd5a4e323734930add241c0456be01b",
       "version_major": 2,
       "version_minor": 0
      },
      "text/plain": [
       "ToggleButton(value=False, description='Show code')"
      ]
     },
     "metadata": {},
     "output_type": "display_data"
    },
    {
     "data": {
      "text/html": [
       "<script>$(\"div.input\").show()</script>"
      ],
      "text/plain": [
       "<IPython.core.display.HTML object>"
      ]
     },
     "metadata": {},
     "output_type": "display_data"
    }
   ],
   "source": [
    "import functools\n",
    "import scipp as sc\n",
    "from widgets import ProcessWidget, PlotWidget, setup_code_hiding\n",
    "from converters import typed_scope_converter, scipp_object, string_allowed_values_converter\n",
    "from example_helpers import fake_load, fake_filepath_converter\n",
    "setup_code_hiding()"
   ]
  },
  {
   "cell_type": "markdown",
   "metadata": {},
   "source": [
    "## Load data\n",
    "For ease of demonstration this executes a fake load function which creates a simple scipp dataset."
   ]
  },
  {
   "cell_type": "code",
   "execution_count": 2,
   "metadata": {},
   "outputs": [
    {
     "data": {
      "application/vnd.jupyter.widget-view+json": {
       "model_id": "ae3520dbecff4d3bbe6e65b8a42bbdfb",
       "version_major": 2,
       "version_minor": 0
      },
      "text/plain": [
       "ProcessWidget(children=(HBox(children=(Combobox(value='', continuous_update=False, placeholder='filepath'), Te…"
      ]
     },
     "metadata": {},
     "output_type": "display_data"
    }
   ],
   "source": [
    "ProcessWidget(globals(), fake_load, 'Load', {'filepath': fake_filepath_converter})"
   ]
  },
  {
   "cell_type": "code",
   "execution_count": 3,
   "metadata": {},
   "outputs": [],
   "source": [
    "x= [1,2,3,4,5]"
   ]
  },
  {
   "cell_type": "markdown",
   "metadata": {},
   "source": [
    "## Sum dimension\n",
    "This widget will sum the input data over the specified dimension. [functools.partial](https://docs.python.org/3/library/functools.html#partial) is used to create a scipp_object_converter with the correct scope."
   ]
  },
  {
   "cell_type": "code",
   "execution_count": 4,
   "metadata": {},
   "outputs": [
    {
     "data": {
      "application/vnd.jupyter.widget-view+json": {
       "model_id": "20cd4d623965418e9b39d3e646b29613",
       "version_major": 2,
       "version_minor": 0
      },
      "text/plain": [
       "ProcessWidget(children=(HBox(children=(Combobox(value='', continuous_update=False, placeholder='input-data'), …"
      ]
     },
     "metadata": {},
     "output_type": "display_data"
    }
   ],
   "source": [
    "data_getter = functools.partial(typed_scope_converter, allowed_types=scipp_object, scope=globals())\n",
    "dimension_getter = functools.partial(string_allowed_values_converter, allowed_values=('tof', 'wavelength'))\n",
    "ProcessWidget(globals(), sc.sum, 'Sum', {'x': data_getter, 'dim': str},descriptions={'x': 'input-data'})"
   ]
  },
  {
   "cell_type": "markdown",
   "metadata": {},
   "source": [
    "## Plotting\n",
    "The PlotWidget provides a simple wrapper around the scipp plot function. This is the equivalent of calling scipp.plot.plot(\\<user input\\>)"
   ]
  },
  {
   "cell_type": "code",
   "execution_count": 5,
   "metadata": {},
   "outputs": [
    {
     "data": {
      "application/vnd.jupyter.widget-view+json": {
       "model_id": "0bfd79a64df0449890e154064c09b3ef",
       "version_major": 2,
       "version_minor": 0
      },
      "text/plain": [
       "PlotWidget(children=(VBox(children=(HBox(children=(Output(), Button(description='Update', style=ButtonStyle())…"
      ]
     },
     "metadata": {},
     "output_type": "display_data"
    }
   ],
   "source": [
    "PlotWidget(globals())"
   ]
  }
 ],
 "metadata": {
  "kernelspec": {
   "display_name": "Python 3",
   "language": "python",
   "name": "python3"
  },
  "language_info": {
   "codemirror_mode": {
    "name": "ipython",
    "version": 3
   },
   "file_extension": ".py",
   "mimetype": "text/x-python",
   "name": "python",
   "nbconvert_exporter": "python",
   "pygments_lexer": "ipython3",
   "version": "3.7.8"
  }
 },
 "nbformat": 4,
 "nbformat_minor": 4
}
