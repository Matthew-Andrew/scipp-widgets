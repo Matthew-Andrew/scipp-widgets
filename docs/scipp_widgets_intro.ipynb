{
 "cells": [
  {
   "cell_type": "markdown",
   "metadata": {},
   "source": [
    "# Scipp widgets examples\n",
    "\n",
    "The scipp-widgets module contains some simple wrapper functions to aid in creating graphical notebooks. To do this it builds upon the [ipywidgets](https://ipywidgets.readthedocs.io/) module.\n",
    "\n",
    "\n"
   ]
  },
  {
   "cell_type": "code",
   "execution_count": null,
   "metadata": {},
   "outputs": [],
   "source": [
    "import numpy as np\n",
    "import scipp as sc\n",
    "from scwidgets.widgets import ProcessWidget, DisplayWidget\n",
    "from scwidgets.inputs import Input, EvalInput\n",
    "from scwidgets.validators import scipp_object_validator"
   ]
  },
  {
   "cell_type": "markdown",
   "metadata": {},
   "source": [
    "For demonstration purposes we create a simple set of [scipp](https://scipp.github.io/tutorials/multi-d-datasets.html) data."
   ]
  },
  {
   "cell_type": "code",
   "execution_count": null,
   "metadata": {},
   "outputs": [],
   "source": [
    "d = sc.Dataset(\n",
    "    {\n",
    "    'alice': sc.Variable(['z', 'y', 'x'], values=np.random.rand(10, 10, 10),\n",
    "                         variances=0.1*np.random.rand(10, 10, 10)),\n",
    "    'bob': sc.Variable(['x', 'z'], values=np.arange(0.0, 10.0, 0.1).reshape(10, 10),\n",
    "                       variances=0.1*np.random.rand(10, 10))\n",
    "    },\n",
    "    coords={\n",
    "        'x': sc.Variable(['x'], values=np.arange(11.0), unit=sc.units.m),\n",
    "        'y': sc.Variable(['y'], values=np.arange(11.0), unit=sc.units.m),\n",
    "        'z': sc.Variable(['z'], values=np.arange(11.0), unit=sc.units.m)})"
   ]
  },
  {
   "cell_type": "markdown",
   "metadata": {},
   "source": [
    "## Wrapping a display function\n",
    "\n",
    "scipp-widgets allows functions to be wrapped in simple graphical interfaces. As a first example take the `scipp.plot.plot` function. This takes a scipp object and plots it. In its simplest form this only has one input the object to be plotted. \n",
    "\n",
    "We will need to create an input object for this describing what is to be input, how we want it displayed and which input of the underlying function it should corrospond to.\n",
    "\n",
    "The minimum we need here is the name of the underlying function input."
   ]
  },
  {
   "cell_type": "code",
   "execution_count": null,
   "metadata": {},
   "outputs": [],
   "source": [
    "data_input = EvalInput('scipp_obj')"
   ]
  },
  {
   "cell_type": "markdown",
   "metadata": {},
   "source": [
    "The `EvalInput` class is a special Input class which before any other processing steps runs it's inputs in the notebooks scope. This allows global variables or the retults of evaluating expressions in the notebooks global scope to be passed to the underlying function."
   ]
  },
  {
   "cell_type": "markdown",
   "metadata": {},
   "source": [
    "A widget which wraps the plot function can then be constructed like so"
   ]
  },
  {
   "cell_type": "code",
   "execution_count": null,
   "metadata": {},
   "outputs": [],
   "source": [
    "DisplayWidget(sc.plot.plot, 'Plot', [data_input])"
   ]
  },
  {
   "cell_type": "markdown",
   "metadata": {},
   "source": [
    "Here the inputs are: function to wrap, operation display name, list of required input objects."
   ]
  },
  {
   "cell_type": "markdown",
   "metadata": {},
   "source": [
    "## Wrapping a processing function\n",
    "Another common case it to wrap a function which processes an input and produces an output. This can be achieved using the `ProcessWidget` class. As an example we construct a wrapper around the `scipp.sum` function below."
   ]
  },
  {
   "cell_type": "code",
   "execution_count": null,
   "metadata": {},
   "outputs": [],
   "source": [
    "data_input = EvalInput('x', tooltip='input data')\n",
    "dimension_input = Input('dim', options = ('x', 'z'))\n",
    "ProcessWidget(sc.sum, 'Sum', [data_input, dimension_input])"
   ]
  },
  {
   "cell_type": "markdown",
   "metadata": {},
   "source": [
    "## Validators\n",
    "Validator methods can be added to any input. These are run when the widget is processing and serve to both perform any pre-processing the input needs before it is passed to the underlying function as well as perform any validation specified.\n",
    "\n",
    "For example we could add a validator to our wrapped plot function meaning it will only accept scipp objects as inputs."
   ]
  },
  {
   "cell_type": "code",
   "execution_count": null,
   "metadata": {},
   "outputs": [],
   "source": [
    "data_input = EvalInput('scipp_obj', validator=scipp_object_validator, tooltip='Data to plot')\n",
    "DisplayWidget(sc.plot.plot, 'Plot', [data_input])"
   ]
  },
  {
   "cell_type": "markdown",
   "metadata": {},
   "source": [
    "## Hiding code\n",
    "The code block used to create a widget can be hidden. Click on the `Py` button to toggle the code back to visability."
   ]
  },
  {
   "cell_type": "code",
   "execution_count": null,
   "metadata": {},
   "outputs": [],
   "source": [
    "data_input = EvalInput('scipp_obj', validator=scipp_object_validator, tooltip='Data to plot')\n",
    "DisplayWidget(sc.plot.plot, 'Plot', [data_input], hide_code=True)"
   ]
  }
 ],
 "metadata": {
  "kernelspec": {
   "display_name": "Python 3",
   "language": "python",
   "name": "python3"
  },
  "language_info": {
   "codemirror_mode": {
    "name": "ipython",
    "version": 3
   },
   "file_extension": ".py",
   "mimetype": "text/x-python",
   "name": "python",
   "nbconvert_exporter": "python",
   "pygments_lexer": "ipython3",
   "version": "3.7.8"
  }
 },
 "nbformat": 4,
 "nbformat_minor": 4
}
