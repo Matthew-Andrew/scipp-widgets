{
 "cells": [
  {
   "cell_type": "markdown",
   "metadata": {},
   "source": [
    "# Scipp widgets examples\n",
    "\n",
    "The scipp-widgets module contains some simple wrapper widgets to aid in creating graphical notebooks.\n",
    "This allows arguments to wrapped functions to be displayed and selected graphically.\n",
    "To do this it builds upon the [ipywidgets](https://ipywidgets.readthedocs.io/) module.\n",
    "\n",
    "\n"
   ]
  },
  {
   "cell_type": "markdown",
   "metadata": {},
   "source": [
    "For demonstration purposes we first create a simple set of [scipp](https://scipp.github.io/tutorials/multi-d-datasets.html) data."
   ]
  },
  {
   "cell_type": "code",
   "execution_count": null,
   "metadata": {},
   "outputs": [],
   "source": [
    "import numpy as np\n",
    "import scipp as sc\n",
    "d = sc.Dataset(\n",
    "    {\n",
    "    'alice': sc.Variable(['z', 'y', 'x'], values=np.random.rand(10, 10, 10),\n",
    "                         variances=0.1*np.random.rand(10, 10, 10)),\n",
    "    'bob': sc.Variable(['x', 'z'], values=np.arange(0.0, 10.0, 0.1).reshape(10, 10),\n",
    "                       variances=0.1*np.random.rand(10, 10))\n",
    "    },\n",
    "    coords={\n",
    "        'x': sc.Variable(['x'], values=np.arange(11.0), unit=sc.units.m),\n",
    "        'y': sc.Variable(['y'], values=np.arange(11.0), unit=sc.units.m),\n",
    "        'z': sc.Variable(['z'], values=np.arange(11.0), unit=sc.units.m)})"
   ]
  },
  {
   "cell_type": "markdown",
   "metadata": {},
   "source": [
    "## Wrapping a display function\n",
    "\n",
    "scipp-widgets allows functions to be wrapped in simple graphical interfaces. \n",
    "As a first example, take the `scipp.plot.plot` function. This takes a scipp object and plots it. \n",
    "In its simplest form, this only has one input; the object to be plotted. \n",
    "\n",
    "We will need to create an input specification object for this describing how we want it displayed, what validation we wish to perform and which argument of the underlying function it should correspond to.\n",
    "\n",
    "The minimum we need here is the name of the underlying function argument."
   ]
  },
  {
   "cell_type": "code",
   "execution_count": null,
   "metadata": {},
   "outputs": [],
   "source": [
    "from scipp_widgets.input_spec import InputSpec\n",
    "from scipp_widgets.widgets import DisplayWidget\n",
    "data_input = InputSpec('scipp_obj', eval_input=True)"
   ]
  },
  {
   "cell_type": "markdown",
   "metadata": {},
   "source": [
    "The `eval_input` allows variables in the notebooks global scope to be passed to this input by name.\n",
    "\n",
    "A widget which wraps the plot function can then be constructed like so:"
   ]
  },
  {
   "cell_type": "code",
   "execution_count": null,
   "metadata": {},
   "outputs": [],
   "source": [
    "DisplayWidget(sc.plot.plot, 'Plot', [data_input])"
   ]
  },
  {
   "cell_type": "markdown",
   "metadata": {},
   "source": [
    "Here the arguments are: function to wrap, name inside the button which triggers the execution, list of required input objects."
   ]
  },
  {
   "cell_type": "markdown",
   "metadata": {},
   "source": [
    "## Wrapping a processing function\n",
    "Another common case is to wrap a function which processes an input and produces an output. \n",
    "This can be achieved using the `ProcessWidget` class. \n",
    "As an example, we construct a wrapper around the `scipp.sum` function below."
   ]
  },
  {
   "cell_type": "code",
   "execution_count": null,
   "metadata": {},
   "outputs": [],
   "source": [
    "from scipp_widgets.widgets import ProcessWidget\n",
    "from scipp_widgets.validators import scipp_object_validator\n",
    "data_input = InputSpec('x', tooltip='input data', eval_input=True)\n",
    "dimension_input = InputSpec('dim', options = ('x', 'z'))\n",
    "ProcessWidget(sc.sum, 'Sum', [data_input, dimension_input])"
   ]
  },
  {
   "cell_type": "markdown",
   "metadata": {},
   "source": [
    "## Validators\n",
    "Validator methods can be added to any input. \n",
    "These are run when the widget is processing and serve to both perform any pre-processing the input needs before it is passed to the underlying function as well as perform any validation specified.\n",
    "\n",
    "For example we could add a validator to our wrapped plot function meaning it will only accept scipp objects as inputs."
   ]
  },
  {
   "cell_type": "code",
   "execution_count": null,
   "metadata": {},
   "outputs": [],
   "source": [
    "data_input = InputSpec('scipp_obj', validator=scipp_object_validator, tooltip='Data to plot', eval_input=True)\n",
    "DisplayWidget(sc.plot.plot, 'Plot', [data_input])"
   ]
  },
  {
   "cell_type": "markdown",
   "metadata": {},
   "source": [
    "## Hiding code\n",
    "The code block used to create a widget can be hidden. Click on the `Py` button to toggle the code back to visibility."
   ]
  },
  {
   "cell_type": "code",
   "execution_count": null,
   "metadata": {},
   "outputs": [],
   "source": [
    "data_input = InputSpec('scipp_obj', validator=scipp_object_validator, tooltip='Data to plot', eval_input=True)\n",
    "DisplayWidget(sc.plot.plot, 'Plot', [data_input], hide_code=True)"
   ]
  }
 ],
 "metadata": {
  "kernelspec": {
   "display_name": "Python 3",
   "language": "python",
   "name": "python3"
  },
  "language_info": {
   "codemirror_mode": {
    "name": "ipython",
    "version": 3
   },
   "file_extension": ".py",
   "mimetype": "text/x-python",
   "name": "python",
   "nbconvert_exporter": "python",
   "pygments_lexer": "ipython3",
   "version": "3.7.8"
  }
 },
 "nbformat": 4,
 "nbformat_minor": 4
}
