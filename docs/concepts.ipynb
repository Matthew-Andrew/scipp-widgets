{
 "cells": [
  {
   "cell_type": "markdown",
   "metadata": {},
   "source": [
    "# scipp-widgets concepts\n"
   ]
  },
  {
   "cell_type": "markdown",
   "metadata": {},
   "source": [
    "## Inputs\n",
    "The input class describes how an input widget should be constructed and how its input should be processed. There are a number of generic classes provided. If you wish to make your own however the interface that needs to be impliment is one property and two methods.These are:\n",
    " * The `name` property, this should return a string and corrospond to the name of the underyling function input this input corrosponds to.\n",
    " * The `validator` method. This takes a single input and returns a single input. This method is called on the input value as a pre-processing step before it it passed to the underlying function. This function should do any neccecary pre-processing and throw a ValueError if the validation fails. See the validator section below for more details.\n",
    " * The `create_input_widget` method. This method should take no inputs and return the widget object you wish to use as the grpahical input.\n",
    " \n",
    " For example the base `Input` class looks like"
   ]
  },
  {
   "cell_type": "code",
   "execution_count": null,
   "metadata": {},
   "outputs": [],
   "source": [
    "import ipywidgets as widgets\n",
    "class Input():\n",
    "    def __init__(self,\n",
    "                 name,\n",
    "                 validator=lambda input: input,\n",
    "                 options=(),\n",
    "                 tooltip=''):\n",
    "        self.name = name\n",
    "        self.validator = validator\n",
    "        self._options = options\n",
    "        self._tooltip = tooltip if tooltip else name\n",
    "\n",
    "    def create_input_widget(self):\n",
    "        return widgets.Combobox(placeholder=self._tooltip,\n",
    "                                continuous_update=False,\n",
    "                                options=self._options)"
   ]
  },
  {
   "cell_type": "markdown",
   "metadata": {},
   "source": [
    "## Validators\n",
    "A validator can be assigned to each input. These serve the dual purpose of doing ay required pre-processing and validating the user input. They should take the form of a function with a single input and single output and throw a ValueError with an approprate message if the validation fails. For example the `ValueValidator` class which validates that the user input is one of a set of allowed values looks like."
   ]
  },
  {
   "cell_type": "code",
   "execution_count": null,
   "metadata": {},
   "outputs": [],
   "source": [
    "class ValueValidator():\n",
    "    def __init__(self, allowed_values):\n",
    "        self.allowed_values = allowed_values\n",
    "\n",
    "    def __call__(self, input):\n",
    "        if input not in self.allowed_values:\n",
    "            raise ValueError(\n",
    "                f'{input} is invalid. Allowed values are{self.allowed_values}')\n",
    "        return input"
   ]
  },
  {
   "cell_type": "markdown",
   "metadata": {},
   "source": [
    "Note however that in principal only a function is required."
   ]
  }
 ],
 "metadata": {
  "kernelspec": {
   "display_name": "Python 3",
   "language": "python",
   "name": "python3"
  },
  "language_info": {
   "codemirror_mode": {
    "name": "ipython",
    "version": 3
   },
   "file_extension": ".py",
   "mimetype": "text/x-python",
   "name": "python",
   "nbconvert_exporter": "python",
   "pygments_lexer": "ipython3",
   "version": "3.7.8"
  }
 },
 "nbformat": 4,
 "nbformat_minor": 4
}
